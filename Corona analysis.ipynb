{
 "cells": [
  {
   "cell_type": "code",
   "execution_count": 1,
   "metadata": {},
   "outputs": [
    {
     "name": "stdout",
     "output_type": "stream",
     "text": [
      "Requirement already satisfied: plotly_express in c:\\programdata\\anaconda3\\lib\\site-packages (0.4.1)\n",
      "Requirement already satisfied: plotly>=4.1.0 in c:\\programdata\\anaconda3\\lib\\site-packages (from plotly_express) (4.5.4)\n",
      "Requirement already satisfied: patsy>=0.5 in c:\\programdata\\anaconda3\\lib\\site-packages (from plotly_express) (0.5.1)\n",
      "Requirement already satisfied: numpy>=1.11 in c:\\programdata\\anaconda3\\lib\\site-packages (from plotly_express) (1.18.1)\n",
      "Requirement already satisfied: scipy>=0.18 in c:\\programdata\\anaconda3\\lib\\site-packages (from plotly_express) (1.4.1)\n",
      "Requirement already satisfied: pandas>=0.20.0 in c:\\programdata\\anaconda3\\lib\\site-packages (from plotly_express) (1.0.1)\n",
      "Requirement already satisfied: statsmodels>=0.9.0 in c:\\programdata\\anaconda3\\lib\\site-packages (from plotly_express) (0.11.0)\n",
      "Requirement already satisfied: retrying>=1.3.3 in c:\\programdata\\anaconda3\\lib\\site-packages (from plotly>=4.1.0->plotly_express) (1.3.3)\n",
      "Requirement already satisfied: six in c:\\programdata\\anaconda3\\lib\\site-packages (from plotly>=4.1.0->plotly_express) (1.14.0)\n",
      "Requirement already satisfied: python-dateutil>=2.6.1 in c:\\programdata\\anaconda3\\lib\\site-packages (from pandas>=0.20.0->plotly_express) (2.8.1)\n",
      "Requirement already satisfied: pytz>=2017.2 in c:\\programdata\\anaconda3\\lib\\site-packages (from pandas>=0.20.0->plotly_express) (2019.3)\n"
     ]
    }
   ],
   "source": [
    "!pip install plotly_express\n",
    "\n",
    "## Import Libraries\n",
    "import numpy as np\n",
    "import pandas as pd\n",
    "import matplotlib.pyplot as plt\n",
    "from pandas.plotting import register_matplotlib_converters\n",
    "register_matplotlib_converters()\n",
    "from scipy.optimize import curve_fit\n",
    "import statsmodels.api as sms\n",
    "\n",
    "#%matplotlib inline\n",
    "# import plotly.express as px\n",
    "# import plotly.graph_objects as go\n",
    "# from plotly.subplots import make_subplots\n",
    "# plt.rcParams['figure.figsize'] = [15, 5]\n",
    "# from IPython import display\n",
    "# from ipywidgets import interact, widgets\n",
    "\n"
   ]
  },
  {
   "cell_type": "code",
   "execution_count": 2,
   "metadata": {},
   "outputs": [],
   "source": [
    "## Read Data for Cases, Deaths and Recoveries\n",
    "ConfirmedCases_raw=pd.read_csv('https://raw.githubusercontent.com/CSSEGISandData/COVID-19/master/csse_covid_19_data/csse_covid_19_time_series/time_series_19-covid-Confirmed.csv')\n",
    "Deaths_raw=pd.read_csv('https://raw.githubusercontent.com/CSSEGISandData/COVID-19/master/csse_covid_19_data/csse_covid_19_time_series/time_series_19-covid-Deaths.csv')\n",
    "Recoveries_raw=pd.read_csv('https://raw.githubusercontent.com/CSSEGISandData/COVID-19/master/csse_covid_19_data/csse_covid_19_time_series/time_series_19-covid-Recovered.csv')"
   ]
  },
  {
   "cell_type": "code",
   "execution_count": 4,
   "metadata": {},
   "outputs": [
    {
     "data": {
      "text/plain": [
       "Index(['Province/State', 'Country/Region', 'Lat', 'Long', '1/22/20', '1/23/20',\n",
       "       '1/24/20', '1/25/20', '1/26/20', '1/27/20', '1/28/20', '1/29/20',\n",
       "       '1/30/20', '1/31/20', '2/1/20', '2/2/20', '2/3/20', '2/4/20', '2/5/20',\n",
       "       '2/6/20', '2/7/20', '2/8/20', '2/9/20', '2/10/20', '2/11/20', '2/12/20',\n",
       "       '2/13/20', '2/14/20', '2/15/20', '2/16/20', '2/17/20', '2/18/20',\n",
       "       '2/19/20', '2/20/20', '2/21/20', '2/22/20', '2/23/20', '2/24/20',\n",
       "       '2/25/20', '2/26/20', '2/27/20', '2/28/20', '2/29/20', '3/1/20',\n",
       "       '3/2/20', '3/3/20', '3/4/20', '3/5/20', '3/6/20', '3/7/20', '3/8/20',\n",
       "       '3/9/20', '3/10/20', '3/11/20', '3/12/20', '3/13/20', '3/14/20',\n",
       "       '3/15/20', '3/16/20', '3/17/20', '3/18/20'],\n",
       "      dtype='object')"
      ]
     },
     "execution_count": 4,
     "metadata": {},
     "output_type": "execute_result"
    }
   ],
   "source": [
    "ConfirmedCases_raw.columns"
   ]
  },
  {
   "cell_type": "code",
   "execution_count": 5,
   "metadata": {},
   "outputs": [],
   "source": [
    "### Melt the dateframe into the right shape and set index\n",
    "def cleandata(df_raw):\n",
    "    df_cleaned=df_raw.melt(id_vars=['Province/State','Country/Region','Lat','Long'],value_name='Cases',var_name='Date')\n",
    "#     df_cleaned=df_cleaned.set_index(['Country/Region','Province/State','Date'])\n",
    "    df_cleaned.reset_index()\n",
    "    return df_cleaned \n",
    "\n",
    "# Clean all datasets\n",
    "ConfirmedCases=cleandata(ConfirmedCases_raw)\n",
    "Deaths=cleandata(Deaths_raw)\n",
    "Recoveries=cleandata(Recoveries_raw)"
   ]
  },
  {
   "cell_type": "code",
   "execution_count": 6,
   "metadata": {},
   "outputs": [],
   "source": [
    "ConfirmedCases.rename(columns={'Country/Region': 'Country'}, inplace=True)\n",
    "ConfirmedCases['Date'] = pd.to_datetime(ConfirmedCases.Date)"
   ]
  },
  {
   "cell_type": "code",
   "execution_count": 7,
   "metadata": {},
   "outputs": [],
   "source": [
    "def func_exp(x, a, b):\n",
    "        return a * np.exp(b * x)\n",
    "\n",
    "def exponential_regression (x_data, y_data):\n",
    "    popt, pcov = curve_fit(func_exp, x_data, y_data)\n",
    "    print(popt)\n",
    "    puntos = plt.plot(x_data, y_data, 'x', color='xkcd:maroon', label = \"data\")\n",
    "    curva_regresion = plt.plot(x_data, func_exp(x_data, *popt), color='xkcd:teal', label = \"fit: {:.3f}, {:.3f}, {:.3f}\".format(*popt))\n",
    "    plt.legend()\n",
    "    plt.show()\n",
    "    return func_exp(x_data, *popt)"
   ]
  },
  {
   "cell_type": "code",
   "execution_count": 10,
   "metadata": {},
   "outputs": [
    {
     "data": {
      "text/html": [
       "<div>\n",
       "<style scoped>\n",
       "    .dataframe tbody tr th:only-of-type {\n",
       "        vertical-align: middle;\n",
       "    }\n",
       "\n",
       "    .dataframe tbody tr th {\n",
       "        vertical-align: top;\n",
       "    }\n",
       "\n",
       "    .dataframe thead th {\n",
       "        text-align: right;\n",
       "    }\n",
       "</style>\n",
       "<table border=\"1\" class=\"dataframe\">\n",
       "  <thead>\n",
       "    <tr style=\"text-align: right;\">\n",
       "      <th></th>\n",
       "      <th>Province/State</th>\n",
       "      <th>Country</th>\n",
       "      <th>Lat</th>\n",
       "      <th>Long</th>\n",
       "      <th>Date</th>\n",
       "      <th>Cases</th>\n",
       "    </tr>\n",
       "  </thead>\n",
       "  <tbody>\n",
       "    <tr>\n",
       "      <th>0</th>\n",
       "      <td>NaN</td>\n",
       "      <td>Thailand</td>\n",
       "      <td>15.0000</td>\n",
       "      <td>101.0000</td>\n",
       "      <td>2020-01-22</td>\n",
       "      <td>2</td>\n",
       "    </tr>\n",
       "    <tr>\n",
       "      <th>1</th>\n",
       "      <td>NaN</td>\n",
       "      <td>Japan</td>\n",
       "      <td>36.0000</td>\n",
       "      <td>138.0000</td>\n",
       "      <td>2020-01-22</td>\n",
       "      <td>2</td>\n",
       "    </tr>\n",
       "    <tr>\n",
       "      <th>2</th>\n",
       "      <td>NaN</td>\n",
       "      <td>Singapore</td>\n",
       "      <td>1.2833</td>\n",
       "      <td>103.8333</td>\n",
       "      <td>2020-01-22</td>\n",
       "      <td>0</td>\n",
       "    </tr>\n",
       "    <tr>\n",
       "      <th>3</th>\n",
       "      <td>NaN</td>\n",
       "      <td>Nepal</td>\n",
       "      <td>28.1667</td>\n",
       "      <td>84.2500</td>\n",
       "      <td>2020-01-22</td>\n",
       "      <td>0</td>\n",
       "    </tr>\n",
       "    <tr>\n",
       "      <th>4</th>\n",
       "      <td>NaN</td>\n",
       "      <td>Malaysia</td>\n",
       "      <td>2.5000</td>\n",
       "      <td>112.5000</td>\n",
       "      <td>2020-01-22</td>\n",
       "      <td>0</td>\n",
       "    </tr>\n",
       "  </tbody>\n",
       "</table>\n",
       "</div>"
      ],
      "text/plain": [
       "  Province/State    Country      Lat      Long       Date  Cases\n",
       "0            NaN   Thailand  15.0000  101.0000 2020-01-22      2\n",
       "1            NaN      Japan  36.0000  138.0000 2020-01-22      2\n",
       "2            NaN  Singapore   1.2833  103.8333 2020-01-22      0\n",
       "3            NaN      Nepal  28.1667   84.2500 2020-01-22      0\n",
       "4            NaN   Malaysia   2.5000  112.5000 2020-01-22      0"
      ]
     },
     "execution_count": 10,
     "metadata": {},
     "output_type": "execute_result"
    }
   ],
   "source": [
    "ConfirmedCases.head()"
   ]
  },
  {
   "cell_type": "code",
   "execution_count": 72,
   "metadata": {},
   "outputs": [],
   "source": [
    "italy = ConfirmedCases.query(\" Country == 'Italy' \").Cases.to_numpy()\n",
    "x_data = np.arange(0,len(italy[30:]))\n",
    "y_data = np.log(italy[30:])"
   ]
  },
  {
   "cell_type": "code",
   "execution_count": 12,
   "metadata": {},
   "outputs": [],
   "source": [
    "china = ConfirmedCases[ConfirmedCases.Country == 'China']\n",
    "china = china.groupby(['Country', 'Date'])['Cases'].sum().reset_index().Cases.to_numpy()\n",
    "x_data = np.arange(0,len(china))\n",
    "y_data = np.log(china)"
   ]
  },
  {
   "cell_type": "code",
   "execution_count": 13,
   "metadata": {},
   "outputs": [
    {
     "name": "stdout",
     "output_type": "stream",
     "text": [
      "                                 OLS Regression Results                                \n",
      "=======================================================================================\n",
      "Dep. Variable:                      y   R-squared (uncentered):                   0.824\n",
      "Model:                            OLS   Adj. R-squared (uncentered):              0.820\n",
      "Method:                 Least Squares   F-statistic:                              261.5\n",
      "Date:                Thu, 19 Mar 2020   Prob (F-statistic):                    9.29e-23\n",
      "Time:                        22:49:36   Log-Likelihood:                         -165.62\n",
      "No. Observations:                  57   AIC:                                      333.2\n",
      "Df Residuals:                      56   BIC:                                      335.3\n",
      "Df Model:                           1                                                  \n",
      "Covariance Type:            nonrobust                                                  \n",
      "==============================================================================\n",
      "                 coef    std err          t      P>|t|      [0.025      0.975]\n",
      "------------------------------------------------------------------------------\n",
      "x1             0.2943      0.018     16.170      0.000       0.258       0.331\n",
      "==============================================================================\n",
      "Omnibus:                       17.268   Durbin-Watson:                   0.003\n",
      "Prob(Omnibus):                  0.000   Jarque-Bera (JB):                5.161\n",
      "Skew:                          -0.416   Prob(JB):                       0.0757\n",
      "Kurtosis:                       1.783   Cond. No.                         1.00\n",
      "==============================================================================\n",
      "\n",
      "Warnings:\n",
      "[1] Standard Errors assume that the covariance matrix of the errors is correctly specified.\n"
     ]
    }
   ],
   "source": [
    "# Model for China\n",
    "\n",
    "china = ConfirmedCases.query(\" Country == 'China' \")\n",
    "china = china.groupby(['Country', 'Date'])['Cases'].sum().reset_index().sort_values('Date').Cases.to_numpy()\n",
    "\n",
    "x_data = np.arange(0,len(china))\n",
    "y_data = np.log(china)\n",
    "\n",
    "mod = sms.OLS(y_data, x_data)\n",
    "res = mod.fit()\n",
    "print(res.summary())"
   ]
  },
  {
   "cell_type": "code",
   "execution_count": 14,
   "metadata": {},
   "outputs": [
    {
     "data": {
      "text/plain": [
       "<matplotlib.axes._subplots.AxesSubplot at 0x1d450ae8b88>"
      ]
     },
     "execution_count": 14,
     "metadata": {},
     "output_type": "execute_result"
    },
    {
     "data": {
      "image/png": "[encoded data removed]",
      "text/plain": [
       "<Figure size 432x288 with 1 Axes>"
      ]
     },
     "metadata": {
      "needs_background": "light"
     },
     "output_type": "display_data"
    }
   ],
   "source": [
    "china = ConfirmedCases.query(\" Country == 'China' \")\n",
    "china = china.groupby(['Country', 'Date'])['Cases'].sum().reset_index().sort_values('Date').Cases\n",
    "china.plot()"
   ]
  },
  {
   "cell_type": "code",
   "execution_count": 15,
   "metadata": {},
   "outputs": [
    {
     "data": {
      "text/plain": [
       "[<matplotlib.lines.Line2D at 0x1d4511d6ac8>]"
      ]
     },
     "execution_count": 15,
     "metadata": {},
     "output_type": "execute_result"
    },
    {
     "data": {
      "image/png": "[encoded data removed]",
      "text/plain": [
       "<Figure size 432x288 with 1 Axes>"
      ]
     },
     "metadata": {
      "needs_background": "light"
     },
     "output_type": "display_data"
    }
   ],
   "source": [
    "ypred = res.predict(x_data)\n",
    "plt.plot(ypred)"
   ]
  },
  {
   "cell_type": "code",
   "execution_count": 16,
   "metadata": {},
   "outputs": [],
   "source": [
    "import datetime\n",
    "today = datetime.date.today()\n",
    "yesterday = today - datetime.timedelta(days=1)\n",
    "current_date = yesterday.strftime(\"%Y-%m-%d\")"
   ]
  },
  {
   "cell_type": "code",
   "execution_count": 18,
   "metadata": {},
   "outputs": [
    {
     "data": {
      "text/plain": [
       "['Spain', 'France', 'Poland', 'Germany']"
      ]
     },
     "execution_count": 18,
     "metadata": {},
     "output_type": "execute_result"
    }
   ],
   "source": [
    "df = ConfirmedCases.groupby(['Country', 'Date'])['Cases'].sum().reset_index()\n",
    "countries = ['Spain', 'France', 'Poland', 'Germany']\n",
    "# df.Country  countries\n",
    "# df[df.Date == current_date]\n"
   ]
  },
  {
   "cell_type": "code",
   "execution_count": 47,
   "metadata": {},
   "outputs": [],
   "source": [
    "a = np.arange(1,5)"
   ]
  },
  {
   "cell_type": "code",
   "execution_count": 49,
   "metadata": {},
   "outputs": [],
   "source": [
    "b = np.arange(1,5)"
   ]
  },
  {
   "cell_type": "code",
   "execution_count": 50,
   "metadata": {},
   "outputs": [
    {
     "data": {
      "text/plain": [
       "array([1., 1., 1., 1.])"
      ]
     },
     "execution_count": 50,
     "metadata": {},
     "output_type": "execute_result"
    }
   ],
   "source": [
    "np.true_divide(a,b)"
   ]
  },
  {
   "cell_type": "code",
   "execution_count": 73,
   "metadata": {},
   "outputs": [],
   "source": [
    "italy = italy[40:]"
   ]
  },
  {
   "cell_type": "code",
   "execution_count": 74,
   "metadata": {},
   "outputs": [
    {
     "data": {
      "text/plain": [
       "array([ 2036,  2502,  3089,  3858,  4636,  5883,  7375,  9172, 10149,\n",
       "       12462, 12462, 17660, 21157, 24747, 27980, 31506, 35713],\n",
       "      dtype=int64)"
      ]
     },
     "execution_count": 74,
     "metadata": {},
     "output_type": "execute_result"
    }
   ],
   "source": [
    "italy"
   ]
  },
  {
   "cell_type": "code",
   "execution_count": 75,
   "metadata": {},
   "outputs": [],
   "source": [
    "first = italy[:len(italy)-1]\n",
    "second = italy[1:len(italy)]"
   ]
  },
  {
   "cell_type": "code",
   "execution_count": 76,
   "metadata": {},
   "outputs": [
    {
     "data": {
      "text/plain": [
       "[<matplotlib.lines.Line2D at 0x1d45231e188>]"
      ]
     },
     "execution_count": 76,
     "metadata": {},
     "output_type": "execute_result"
    },
    {
     "data": {
      "image/png": "[encoded data removed]",
      "text/plain": [
       "<Figure size 432x288 with 1 Axes>"
      ]
     },
     "metadata": {
      "needs_background": "light"
     },
     "output_type": "display_data"
    }
   ],
   "source": [
    "growth = np.true_divide(second, first)\n",
    "plt.plot(growth)"
   ]
  },
  {
   "cell_type": "code",
   "execution_count": 81,
   "metadata": {},
   "outputs": [],
   "source": [
    "# funkcja liczaca growth dla ostatnich 20 dni dla danego kraju\n",
    "\n",
    "def calculate_growth(country, days):\n",
    "\n",
    "#     days = liczba dni wstecz dla ktorych liczymy growth\n",
    "#     country = \"Italy\"\n",
    "\n",
    "    country_data = ConfirmedCases.query(\" Country == @country \").Cases.to_numpy()\n",
    "    final = country_data[len(country_data)-@days: len(country_data)]\n",
    "    first = final[:len(final)-1] # lista pierwsza \n",
    "    second = final[1:len(final)] # druga lista przesunieta o 1, zeby policzyc growth dzienny\n",
    "    growth = np.true_divide(second, first) #funkcja ktora liczy growth\n",
    "    \n",
    "    print(growth)\n",
    "    plt.plot(growth)  "
   ]
  },
  {
   "cell_type": "code",
   "execution_count": 82,
   "metadata": {},
   "outputs": [
    {
     "name": "stdout",
     "output_type": "stream",
     "text": [
      "[1.27027027 1.50177305 1.20188902 1.22888016 1.23461231 1.24894788\n",
      " 1.20165889 1.26898188 1.2536121  1.24366102 1.10651984 1.22790423\n",
      " 1.         1.41710801 1.19801812 1.16968379 1.1306421  1.12601858\n",
      " 1.13353012]\n"
     ]
    },
    {
     "data": {
      "image/png": "[encoded data removed]",
      "text/plain": [
       "<Figure size 432x288 with 1 Axes>"
      ]
     },
     "metadata": {
      "needs_background": "light"
     },
     "output_type": "display_data"
    }
   ],
   "source": [
    "calculate_growth(\"Italy\", 20)"
   ]
  }
 ],
 "metadata": {
  "kernelspec": {
   "display_name": "Python 3",
   "language": "python",
   "name": "python3"
  },
  "language_info": {
   "codemirror_mode": {
    "name": "ipython",
    "version": 3
   },
   "file_extension": ".py",
   "mimetype": "text/x-python",
   "name": "python",
   "nbconvert_exporter": "python",
   "pygments_lexer": "ipython3",
   "version": "3.7.6"
  }
 },
 "nbformat": 4,
 "nbformat_minor": 4
}
